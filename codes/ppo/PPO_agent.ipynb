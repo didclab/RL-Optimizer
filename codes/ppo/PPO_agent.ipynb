{
 "cells": [
  {
   "cell_type": "code",
   "execution_count": 1,
   "id": "d59361cb-5cac-493f-926c-e068b607bdee",
   "metadata": {},
   "outputs": [],
   "source": [
    "import numpy as np\n",
    "import matplotlib.pyplot as plt\n",
    "\n",
    "def plot_learning_curve(x, scores, figure_file):\n",
    "    running_avg = np.zeros(len(scores))\n",
    "    for i in range(len(running_avg)):\n",
    "        running_avg[i] = np.mean(scores[max(0, i-100):(i+1)])\n",
    "    plt.plot(x, running_avg)\n",
    "    plt.title('Running average of previous 100 scores')\n",
    "    plt.savefig(figure_file)"
   ]
  },
  {
   "cell_type": "code",
   "execution_count": 2,
   "id": "e2eb5da2-17bb-4b85-9837-ac6a814d3efb",
   "metadata": {},
   "outputs": [
    {
     "name": "stderr",
     "output_type": "stream",
     "text": [
      "/home/hjamil/venv/lib/python3.10/site-packages/torch/utils/tensorboard/__init__.py:2: DeprecationWarning: The distutils package is deprecated and slated for removal in Python 3.12. Use setuptools or check PEP 632 for potential alternatives\n",
      "  from distutils.version import LooseVersion\n"
     ]
    }
   ],
   "source": [
    "import gym\n",
    "import numpy as np\n",
    "from ppo_agent import *\n",
    "import time\n",
    "from torch.utils.tensorboard import SummaryWriter\n"
   ]
  },
  {
   "cell_type": "code",
   "execution_count": 21,
   "id": "b4585c0c-8227-47fa-b991-c3e7329a4972",
   "metadata": {},
   "outputs": [
    {
     "name": "stdout",
     "output_type": "stream",
     "text": [
      "episode 0 score 13.0 avg score 13.0 time_steps 13 learning_steps 0\n",
      "episode 1 score 10.0 avg score 11.5 time_steps 23 learning_steps 1\n",
      "episode 2 score 11.0 avg score 11.3 time_steps 34 learning_steps 1\n",
      "episode 3 score 30.0 avg score 16.0 time_steps 64 learning_steps 3\n",
      "episode 4 score 15.0 avg score 15.8 time_steps 79 learning_steps 3\n",
      "episode 5 score 11.0 avg score 15.0 time_steps 90 learning_steps 4\n",
      "episode 6 score 14.0 avg score 14.9 time_steps 104 learning_steps 5\n",
      "episode 7 score 17.0 avg score 15.1 time_steps 121 learning_steps 6\n",
      "episode 8 score 12.0 avg score 14.8 time_steps 133 learning_steps 6\n",
      "episode 9 score 9.0 avg score 14.2 time_steps 142 learning_steps 7\n",
      "episode 10 score 12.0 avg score 14.0 time_steps 154 learning_steps 7\n",
      "episode 11 score 22.0 avg score 14.7 time_steps 176 learning_steps 8\n",
      "episode 12 score 25.0 avg score 15.5 time_steps 201 learning_steps 10\n",
      "episode 13 score 10.0 avg score 15.1 time_steps 211 learning_steps 10\n",
      "episode 14 score 28.0 avg score 15.9 time_steps 239 learning_steps 11\n",
      "episode 15 score 19.0 avg score 16.1 time_steps 258 learning_steps 12\n",
      "episode 16 score 26.0 avg score 16.7 time_steps 284 learning_steps 14\n",
      "episode 17 score 56.0 avg score 18.9 time_steps 340 learning_steps 17\n",
      "episode 18 score 26.0 avg score 19.3 time_steps 366 learning_steps 18\n",
      "episode 19 score 75.0 avg score 22.1 time_steps 441 learning_steps 22\n",
      "episode 20 score 27.0 avg score 22.3 time_steps 468 learning_steps 23\n",
      "episode 21 score 43.0 avg score 23.2 time_steps 511 learning_steps 25\n",
      "episode 22 score 52.0 avg score 24.5 time_steps 563 learning_steps 28\n",
      "episode 23 score 14.0 avg score 24.0 time_steps 577 learning_steps 28\n",
      "episode 24 score 55.0 avg score 25.3 time_steps 632 learning_steps 31\n",
      "episode 25 score 138.0 avg score 29.6 time_steps 770 learning_steps 38\n",
      "episode 26 score 65.0 avg score 30.9 time_steps 835 learning_steps 41\n",
      "episode 27 score 48.0 avg score 31.5 time_steps 883 learning_steps 44\n",
      "episode 28 score 43.0 avg score 31.9 time_steps 926 learning_steps 46\n",
      "episode 29 score 149.0 avg score 35.8 time_steps 1075 learning_steps 53\n",
      "episode 30 score 84.0 avg score 37.4 time_steps 1159 learning_steps 57\n",
      "episode 31 score 108.0 avg score 39.6 time_steps 1267 learning_steps 63\n",
      "episode 32 score 122.0 avg score 42.1 time_steps 1389 learning_steps 69\n",
      "episode 33 score 28.0 avg score 41.7 time_steps 1417 learning_steps 70\n",
      "episode 34 score 31.0 avg score 41.4 time_steps 1448 learning_steps 72\n",
      "episode 35 score 32.0 avg score 41.1 time_steps 1480 learning_steps 74\n",
      "episode 36 score 33.0 avg score 40.9 time_steps 1513 learning_steps 75\n",
      "episode 37 score 89.0 avg score 42.2 time_steps 1602 learning_steps 80\n",
      "episode 38 score 98.0 avg score 43.6 time_steps 1700 learning_steps 85\n",
      "episode 39 score 60.0 avg score 44.0 time_steps 1760 learning_steps 88\n",
      "episode 40 score 42.0 avg score 44.0 time_steps 1802 learning_steps 90\n",
      "episode 41 score 95.0 avg score 45.2 time_steps 1897 learning_steps 94\n",
      "episode 42 score 83.0 avg score 46.0 time_steps 1980 learning_steps 99\n",
      "episode 43 score 44.0 avg score 46.0 time_steps 2024 learning_steps 101\n",
      "episode 44 score 48.0 avg score 46.0 time_steps 2072 learning_steps 103\n",
      "episode 45 score 35.0 avg score 45.8 time_steps 2107 learning_steps 105\n",
      "episode 46 score 25.0 avg score 45.4 time_steps 2132 learning_steps 106\n",
      "episode 47 score 51.0 avg score 45.5 time_steps 2183 learning_steps 109\n",
      "episode 48 score 77.0 avg score 46.1 time_steps 2260 learning_steps 113\n",
      "episode 49 score 44.0 avg score 46.1 time_steps 2304 learning_steps 115\n",
      "episode 50 score 76.0 avg score 46.7 time_steps 2380 learning_steps 119\n",
      "episode 51 score 119.0 avg score 48.1 time_steps 2499 learning_steps 124\n",
      "episode 52 score 92.0 avg score 48.9 time_steps 2591 learning_steps 129\n",
      "episode 53 score 162.0 avg score 51.0 time_steps 2753 learning_steps 137\n",
      "episode 54 score 96.0 avg score 51.8 time_steps 2849 learning_steps 142\n",
      "episode 55 score 38.0 avg score 51.6 time_steps 2887 learning_steps 144\n",
      "episode 56 score 172.0 avg score 53.7 time_steps 3059 learning_steps 152\n",
      "episode 57 score 283.0 avg score 57.6 time_steps 3342 learning_steps 167\n",
      "episode 58 score 48.0 avg score 57.5 time_steps 3390 learning_steps 169\n",
      "episode 59 score 150.0 avg score 59.0 time_steps 3540 learning_steps 177\n",
      "episode 60 score 187.0 avg score 61.1 time_steps 3727 learning_steps 186\n",
      "episode 61 score 131.0 avg score 62.2 time_steps 3858 learning_steps 192\n",
      "episode 62 score 137.0 avg score 63.4 time_steps 3995 learning_steps 199\n",
      "episode 63 score 71.0 avg score 63.5 time_steps 4066 learning_steps 203\n",
      "episode 64 score 40.0 avg score 63.2 time_steps 4106 learning_steps 205\n",
      "episode 65 score 201.0 avg score 65.3 time_steps 4307 learning_steps 215\n",
      "episode 66 score 149.0 avg score 66.5 time_steps 4456 learning_steps 222\n",
      "episode 67 score 356.0 avg score 70.8 time_steps 4812 learning_steps 240\n",
      "episode 68 score 208.0 avg score 72.8 time_steps 5020 learning_steps 251\n",
      "episode 69 score 76.0 avg score 72.8 time_steps 5096 learning_steps 254\n",
      "episode 70 score 113.0 avg score 73.4 time_steps 5209 learning_steps 260\n",
      "episode 71 score 39.0 avg score 72.9 time_steps 5248 learning_steps 262\n",
      "episode 72 score 127.0 avg score 73.6 time_steps 5375 learning_steps 268\n",
      "episode 73 score 189.0 avg score 75.2 time_steps 5564 learning_steps 278\n",
      "episode 74 score 268.0 avg score 77.8 time_steps 5832 learning_steps 291\n",
      "episode 75 score 291.0 avg score 80.6 time_steps 6123 learning_steps 306\n",
      "episode 76 score 177.0 avg score 81.8 time_steps 6300 learning_steps 315\n",
      "episode 77 score 193.0 avg score 83.2 time_steps 6493 learning_steps 324\n",
      "episode 78 score 283.0 avg score 85.8 time_steps 6776 learning_steps 338\n",
      "episode 79 score 240.0 avg score 87.7 time_steps 7016 learning_steps 350\n",
      "episode 80 score 135.0 avg score 88.3 time_steps 7151 learning_steps 357\n",
      "episode 81 score 209.0 avg score 89.8 time_steps 7360 learning_steps 368\n",
      "episode 82 score 215.0 avg score 91.3 time_steps 7575 learning_steps 378\n",
      "episode 83 score 171.0 avg score 92.2 time_steps 7746 learning_steps 387\n",
      "episode 84 score 166.0 avg score 93.1 time_steps 7912 learning_steps 395\n",
      "episode 85 score 189.0 avg score 94.2 time_steps 8101 learning_steps 405\n",
      "episode 86 score 214.0 avg score 95.6 time_steps 8315 learning_steps 415\n",
      "episode 87 score 500.0 avg score 100.2 time_steps 8815 learning_steps 440\n",
      "episode 88 score 179.0 avg score 101.1 time_steps 8994 learning_steps 449\n",
      "episode 89 score 254.0 avg score 102.8 time_steps 9248 learning_steps 462\n",
      "episode 90 score 264.0 avg score 104.5 time_steps 9512 learning_steps 475\n",
      "episode 91 score 500.0 avg score 108.8 time_steps 10012 learning_steps 500\n",
      "episode 92 score 445.0 avg score 112.4 time_steps 10457 learning_steps 522\n",
      "episode 93 score 500.0 avg score 116.6 time_steps 10957 learning_steps 547\n",
      "episode 94 score 198.0 avg score 117.4 time_steps 11155 learning_steps 557\n",
      "episode 95 score 48.0 avg score 116.7 time_steps 11203 learning_steps 560\n",
      "episode 96 score 109.0 avg score 116.6 time_steps 11312 learning_steps 565\n",
      "episode 97 score 133.0 avg score 116.8 time_steps 11445 learning_steps 572\n",
      "episode 98 score 112.0 avg score 116.7 time_steps 11557 learning_steps 577\n",
      "episode 99 score 115.0 avg score 116.7 time_steps 11672 learning_steps 583\n",
      "episode 100 score 75.0 avg score 117.3 time_steps 11747 learning_steps 587\n",
      "episode 101 score 135.0 avg score 118.6 time_steps 11882 learning_steps 594\n",
      "episode 102 score 153.0 avg score 120.0 time_steps 12035 learning_steps 601\n",
      "episode 103 score 137.0 avg score 121.1 time_steps 12172 learning_steps 608\n",
      "episode 104 score 122.0 avg score 122.2 time_steps 12294 learning_steps 614\n",
      "episode 105 score 144.0 avg score 123.5 time_steps 12438 learning_steps 621\n",
      "episode 106 score 123.0 avg score 124.6 time_steps 12561 learning_steps 628\n",
      "episode 107 score 133.0 avg score 125.7 time_steps 12694 learning_steps 634\n",
      "episode 108 score 185.0 avg score 127.5 time_steps 12879 learning_steps 643\n",
      "episode 109 score 500.0 avg score 132.4 time_steps 13379 learning_steps 668\n",
      "episode 110 score 500.0 avg score 137.2 time_steps 13879 learning_steps 693\n",
      "episode 111 score 500.0 avg score 142.0 time_steps 14379 learning_steps 718\n",
      "episode 112 score 181.0 avg score 143.6 time_steps 14560 learning_steps 728\n",
      "episode 113 score 500.0 avg score 148.5 time_steps 15060 learning_steps 753\n",
      "episode 114 score 248.0 avg score 150.7 time_steps 15308 learning_steps 765\n",
      "episode 115 score 225.0 avg score 152.8 time_steps 15533 learning_steps 776\n",
      "episode 116 score 114.0 avg score 153.6 time_steps 15647 learning_steps 782\n",
      "episode 117 score 95.0 avg score 154.0 time_steps 15742 learning_steps 787\n",
      "episode 118 score 55.0 avg score 154.3 time_steps 15797 learning_steps 789\n",
      "episode 119 score 28.0 avg score 153.8 time_steps 15825 learning_steps 791\n",
      "episode 120 score 15.0 avg score 153.7 time_steps 15840 learning_steps 792\n",
      "episode 121 score 26.0 avg score 153.6 time_steps 15866 learning_steps 793\n",
      "episode 122 score 19.0 avg score 153.2 time_steps 15885 learning_steps 794\n",
      "episode 123 score 32.0 avg score 153.4 time_steps 15917 learning_steps 795\n",
      "episode 124 score 137.0 avg score 154.2 time_steps 16054 learning_steps 802\n",
      "episode 125 score 151.0 avg score 154.3 time_steps 16205 learning_steps 810\n",
      "episode 126 score 481.0 avg score 158.5 time_steps 16686 learning_steps 834\n",
      "episode 127 score 500.0 avg score 163.0 time_steps 17186 learning_steps 859\n",
      "episode 128 score 500.0 avg score 167.6 time_steps 17686 learning_steps 884\n",
      "episode 129 score 500.0 avg score 171.1 time_steps 18186 learning_steps 909\n",
      "episode 130 score 500.0 avg score 175.3 time_steps 18686 learning_steps 934\n",
      "episode 131 score 199.0 avg score 176.2 time_steps 18885 learning_steps 944\n",
      "episode 132 score 187.0 avg score 176.8 time_steps 19072 learning_steps 953\n",
      "episode 133 score 187.0 avg score 178.4 time_steps 19259 learning_steps 962\n",
      "episode 134 score 239.0 avg score 180.5 time_steps 19498 learning_steps 974\n",
      "episode 135 score 355.0 avg score 183.7 time_steps 19853 learning_steps 992\n",
      "episode 136 score 337.0 avg score 186.8 time_steps 20190 learning_steps 1009\n",
      "episode 137 score 500.0 avg score 190.9 time_steps 20690 learning_steps 1034\n",
      "episode 138 score 500.0 avg score 194.9 time_steps 21190 learning_steps 1059\n",
      "episode 139 score 500.0 avg score 199.3 time_steps 21690 learning_steps 1084\n",
      "episode 140 score 500.0 avg score 203.9 time_steps 22190 learning_steps 1109\n",
      "episode 141 score 368.0 avg score 206.6 time_steps 22558 learning_steps 1127\n",
      "episode 142 score 369.0 avg score 209.5 time_steps 22927 learning_steps 1146\n",
      "episode 143 score 220.0 avg score 211.2 time_steps 23147 learning_steps 1157\n",
      "episode 144 score 268.0 avg score 213.4 time_steps 23415 learning_steps 1170\n",
      "episode 145 score 371.0 avg score 216.8 time_steps 23786 learning_steps 1189\n",
      "episode 146 score 434.0 avg score 220.9 time_steps 24220 learning_steps 1211\n",
      "episode 147 score 500.0 avg score 225.4 time_steps 24720 learning_steps 1236\n",
      "episode 148 score 500.0 avg score 229.6 time_steps 25220 learning_steps 1261\n",
      "episode 149 score 500.0 avg score 234.2 time_steps 25720 learning_steps 1286\n",
      "episode 150 score 500.0 avg score 238.4 time_steps 26220 learning_steps 1311\n",
      "episode 151 score 500.0 avg score 242.2 time_steps 26720 learning_steps 1336\n",
      "episode 152 score 500.0 avg score 246.3 time_steps 27220 learning_steps 1361\n",
      "episode 153 score 500.0 avg score 249.7 time_steps 27720 learning_steps 1386\n",
      "episode 154 score 500.0 avg score 253.7 time_steps 28220 learning_steps 1411\n",
      "episode 155 score 500.0 avg score 258.3 time_steps 28720 learning_steps 1436\n",
      "episode 156 score 500.0 avg score 261.6 time_steps 29220 learning_steps 1461\n",
      "episode 157 score 500.0 avg score 263.8 time_steps 29720 learning_steps 1486\n",
      "episode 158 score 500.0 avg score 268.3 time_steps 30220 learning_steps 1511\n",
      "episode 159 score 500.0 avg score 271.8 time_steps 30720 learning_steps 1536\n",
      "episode 160 score 500.0 avg score 274.9 time_steps 31220 learning_steps 1561\n",
      "episode 161 score 500.0 avg score 278.6 time_steps 31720 learning_steps 1586\n",
      "episode 162 score 500.0 avg score 282.2 time_steps 32220 learning_steps 1611\n",
      "episode 163 score 500.0 avg score 286.5 time_steps 32720 learning_steps 1636\n",
      "episode 164 score 500.0 avg score 291.1 time_steps 33220 learning_steps 1661\n",
      "episode 165 score 500.0 avg score 294.1 time_steps 33720 learning_steps 1686\n",
      "episode 166 score 500.0 avg score 297.6 time_steps 34220 learning_steps 1711\n",
      "episode 167 score 500.0 avg score 299.1 time_steps 34720 learning_steps 1736\n",
      "episode 168 score 500.0 avg score 302.0 time_steps 35220 learning_steps 1761\n",
      "episode 169 score 500.0 avg score 306.2 time_steps 35720 learning_steps 1786\n",
      "episode 170 score 500.0 avg score 310.1 time_steps 36220 learning_steps 1811\n",
      "episode 171 score 500.0 avg score 314.7 time_steps 36720 learning_steps 1836\n",
      "episode 172 score 500.0 avg score 318.4 time_steps 37220 learning_steps 1861\n",
      "episode 173 score 500.0 avg score 321.6 time_steps 37720 learning_steps 1886\n",
      "episode 174 score 500.0 avg score 323.9 time_steps 38220 learning_steps 1911\n",
      "episode 175 score 235.0 avg score 323.3 time_steps 38455 learning_steps 1922\n",
      "episode 176 score 500.0 avg score 326.6 time_steps 38955 learning_steps 1947\n",
      "episode 177 score 500.0 avg score 329.6 time_steps 39455 learning_steps 1972\n",
      "episode 178 score 500.0 avg score 331.8 time_steps 39955 learning_steps 1997\n",
      "episode 179 score 500.0 avg score 334.4 time_steps 40455 learning_steps 2022\n",
      "episode 180 score 220.0 avg score 335.2 time_steps 40675 learning_steps 2033\n",
      "episode 181 score 500.0 avg score 338.1 time_steps 41175 learning_steps 2058\n",
      "episode 182 score 500.0 avg score 341.0 time_steps 41675 learning_steps 2083\n",
      "episode 183 score 278.0 avg score 342.1 time_steps 41953 learning_steps 2097\n",
      "episode 184 score 270.0 avg score 343.1 time_steps 42223 learning_steps 2111\n",
      "episode 185 score 500.0 avg score 346.2 time_steps 42723 learning_steps 2136\n",
      "episode 186 score 500.0 avg score 349.1 time_steps 43223 learning_steps 2161\n",
      "episode 187 score 500.0 avg score 349.1 time_steps 43723 learning_steps 2186\n",
      "episode 188 score 500.0 avg score 352.3 time_steps 44223 learning_steps 2211\n",
      "episode 189 score 500.0 avg score 354.8 time_steps 44723 learning_steps 2236\n",
      "episode 190 score 500.0 avg score 357.1 time_steps 45223 learning_steps 2261\n",
      "episode 191 score 235.0 avg score 354.5 time_steps 45458 learning_steps 2272\n",
      "episode 192 score 225.0 avg score 352.3 time_steps 45683 learning_steps 2284\n",
      "episode 193 score 247.0 avg score 349.7 time_steps 45930 learning_steps 2296\n",
      "episode 194 score 352.0 avg score 351.3 time_steps 46282 learning_steps 2314\n",
      "episode 195 score 500.0 avg score 355.8 time_steps 46782 learning_steps 2339\n",
      "episode 196 score 500.0 avg score 359.7 time_steps 47282 learning_steps 2364\n",
      "episode 197 score 500.0 avg score 363.4 time_steps 47782 learning_steps 2389\n",
      "episode 198 score 500.0 avg score 367.2 time_steps 48282 learning_steps 2414\n",
      "episode 199 score 500.0 avg score 371.1 time_steps 48782 learning_steps 2439\n",
      "episode 200 score 500.0 avg score 375.4 time_steps 49282 learning_steps 2464\n",
      "episode 201 score 500.0 avg score 379.0 time_steps 49782 learning_steps 2489\n",
      "episode 202 score 500.0 avg score 382.5 time_steps 50282 learning_steps 2514\n",
      "episode 203 score 500.0 avg score 386.1 time_steps 50782 learning_steps 2539\n",
      "episode 204 score 500.0 avg score 389.9 time_steps 51282 learning_steps 2564\n",
      "episode 205 score 352.0 avg score 392.0 time_steps 51634 learning_steps 2581\n",
      "episode 206 score 390.0 avg score 394.6 time_steps 52024 learning_steps 2601\n",
      "episode 207 score 309.0 avg score 396.4 time_steps 52333 learning_steps 2616\n",
      "episode 208 score 291.0 avg score 397.4 time_steps 52624 learning_steps 2631\n",
      "episode 209 score 355.0 avg score 396.0 time_steps 52979 learning_steps 2648\n",
      "episode 210 score 500.0 avg score 396.0 time_steps 53479 learning_steps 2673\n",
      "episode 211 score 500.0 avg score 396.0 time_steps 53979 learning_steps 2698\n",
      "episode 212 score 500.0 avg score 399.2 time_steps 54479 learning_steps 2723\n",
      "episode 213 score 500.0 avg score 399.2 time_steps 54979 learning_steps 2748\n",
      "episode 214 score 500.0 avg score 401.7 time_steps 55479 learning_steps 2773\n",
      "episode 215 score 500.0 avg score 404.5 time_steps 55979 learning_steps 2798\n",
      "episode 216 score 500.0 avg score 408.3 time_steps 56479 learning_steps 2823\n",
      "episode 217 score 500.0 avg score 412.4 time_steps 56979 learning_steps 2848\n",
      "episode 218 score 281.0 avg score 414.6 time_steps 57260 learning_steps 2863\n",
      "episode 219 score 270.0 avg score 417.1 time_steps 57530 learning_steps 2876\n",
      "episode 220 score 288.0 avg score 419.8 time_steps 57818 learning_steps 2890\n",
      "episode 221 score 277.0 avg score 422.3 time_steps 58095 learning_steps 2904\n",
      "episode 222 score 245.0 avg score 424.6 time_steps 58340 learning_steps 2917\n",
      "episode 223 score 209.0 avg score 426.3 time_steps 58549 learning_steps 2927\n",
      "episode 224 score 225.0 avg score 427.2 time_steps 58774 learning_steps 2938\n",
      "episode 225 score 201.0 avg score 427.7 time_steps 58975 learning_steps 2948\n",
      "episode 226 score 218.0 avg score 425.1 time_steps 59193 learning_steps 2959\n",
      "episode 227 score 13.0 avg score 420.2 time_steps 59206 learning_steps 2960\n",
      "episode 228 score 235.0 avg score 417.6 time_steps 59441 learning_steps 2972\n",
      "episode 229 score 304.0 avg score 415.6 time_steps 59745 learning_steps 2987\n",
      "episode 230 score 468.0 avg score 415.3 time_steps 60213 learning_steps 3010\n",
      "episode 231 score 500.0 avg score 418.3 time_steps 60713 learning_steps 3035\n",
      "episode 232 score 500.0 avg score 421.4 time_steps 61213 learning_steps 3060\n",
      "episode 233 score 456.0 avg score 424.1 time_steps 61669 learning_steps 3083\n",
      "episode 234 score 255.0 avg score 424.3 time_steps 61924 learning_steps 3096\n",
      "episode 235 score 229.0 avg score 423.0 time_steps 62153 learning_steps 3107\n",
      "episode 236 score 228.0 avg score 421.9 time_steps 62381 learning_steps 3119\n",
      "episode 237 score 220.0 avg score 419.1 time_steps 62601 learning_steps 3130\n",
      "episode 238 score 231.0 avg score 416.4 time_steps 62832 learning_steps 3141\n",
      "episode 239 score 230.0 avg score 413.7 time_steps 63062 learning_steps 3153\n",
      "episode 240 score 212.0 avg score 410.8 time_steps 63274 learning_steps 3163\n",
      "episode 241 score 202.0 avg score 409.2 time_steps 63476 learning_steps 3173\n",
      "episode 242 score 214.0 avg score 407.6 time_steps 63690 learning_steps 3184\n",
      "episode 243 score 212.0 avg score 407.6 time_steps 63902 learning_steps 3195\n",
      "episode 244 score 241.0 avg score 407.3 time_steps 64143 learning_steps 3207\n",
      "episode 245 score 271.0 avg score 406.3 time_steps 64414 learning_steps 3220\n",
      "episode 246 score 246.0 avg score 404.4 time_steps 64660 learning_steps 3233\n",
      "episode 247 score 234.0 avg score 401.7 time_steps 64894 learning_steps 3244\n",
      "episode 248 score 203.0 avg score 398.8 time_steps 65097 learning_steps 3254\n",
      "episode 249 score 203.0 avg score 395.8 time_steps 65300 learning_steps 3265\n",
      "episode 250 score 227.0 avg score 393.1 time_steps 65527 learning_steps 3276\n",
      "episode 251 score 256.0 avg score 390.6 time_steps 65783 learning_steps 3289\n",
      "episode 252 score 247.0 avg score 388.1 time_steps 66030 learning_steps 3301\n",
      "episode 253 score 212.0 avg score 385.2 time_steps 66242 learning_steps 3312\n",
      "episode 254 score 245.0 avg score 382.7 time_steps 66487 learning_steps 3324\n",
      "episode 255 score 236.0 avg score 380.0 time_steps 66723 learning_steps 3336\n",
      "episode 256 score 299.0 avg score 378.0 time_steps 67022 learning_steps 3351\n",
      "episode 257 score 288.0 avg score 375.9 time_steps 67310 learning_steps 3365\n",
      "episode 258 score 258.0 avg score 373.5 time_steps 67568 learning_steps 3378\n",
      "episode 259 score 242.0 avg score 370.9 time_steps 67810 learning_steps 3390\n",
      "episode 260 score 320.0 avg score 369.1 time_steps 68130 learning_steps 3406\n",
      "episode 261 score 329.0 avg score 367.4 time_steps 68459 learning_steps 3422\n",
      "episode 262 score 500.0 avg score 367.4 time_steps 68959 learning_steps 3447\n",
      "episode 263 score 500.0 avg score 367.4 time_steps 69459 learning_steps 3472\n",
      "episode 264 score 500.0 avg score 367.4 time_steps 69959 learning_steps 3497\n",
      "episode 265 score 500.0 avg score 367.4 time_steps 70459 learning_steps 3522\n",
      "episode 266 score 500.0 avg score 367.4 time_steps 70959 learning_steps 3547\n",
      "episode 267 score 500.0 avg score 367.4 time_steps 71459 learning_steps 3572\n",
      "episode 268 score 500.0 avg score 367.4 time_steps 71959 learning_steps 3597\n",
      "episode 269 score 500.0 avg score 367.4 time_steps 72459 learning_steps 3622\n",
      "episode 270 score 500.0 avg score 367.4 time_steps 72959 learning_steps 3647\n",
      "episode 271 score 439.0 avg score 366.8 time_steps 73398 learning_steps 3669\n",
      "episode 272 score 500.0 avg score 366.8 time_steps 73898 learning_steps 3694\n",
      "episode 273 score 500.0 avg score 366.8 time_steps 74398 learning_steps 3719\n",
      "episode 274 score 319.0 avg score 365.0 time_steps 74717 learning_steps 3735\n",
      "episode 275 score 345.0 avg score 366.1 time_steps 75062 learning_steps 3753\n",
      "episode 276 score 500.0 avg score 366.1 time_steps 75562 learning_steps 3778\n",
      "episode 277 score 500.0 avg score 366.1 time_steps 76062 learning_steps 3803\n",
      "episode 278 score 500.0 avg score 366.1 time_steps 76562 learning_steps 3828\n",
      "episode 279 score 500.0 avg score 366.1 time_steps 77062 learning_steps 3853\n",
      "episode 280 score 500.0 avg score 368.9 time_steps 77562 learning_steps 3878\n",
      "episode 281 score 367.0 avg score 367.5 time_steps 77929 learning_steps 3896\n",
      "episode 282 score 473.0 avg score 367.3 time_steps 78402 learning_steps 3920\n",
      "episode 283 score 500.0 avg score 369.5 time_steps 78902 learning_steps 3945\n",
      "episode 284 score 500.0 avg score 371.8 time_steps 79402 learning_steps 3970\n",
      "episode 285 score 483.0 avg score 371.6 time_steps 79885 learning_steps 3994\n",
      "episode 286 score 417.0 avg score 370.8 time_steps 80302 learning_steps 4015\n",
      "episode 287 score 500.0 avg score 370.8 time_steps 80802 learning_steps 4040\n",
      "episode 288 score 500.0 avg score 370.8 time_steps 81302 learning_steps 4065\n",
      "episode 289 score 500.0 avg score 370.8 time_steps 81802 learning_steps 4090\n",
      "episode 290 score 377.0 avg score 369.6 time_steps 82179 learning_steps 4108\n",
      "episode 291 score 415.0 avg score 371.4 time_steps 82594 learning_steps 4129\n",
      "episode 292 score 343.0 avg score 372.5 time_steps 82937 learning_steps 4146\n",
      "episode 293 score 448.0 avg score 374.6 time_steps 83385 learning_steps 4169\n",
      "episode 294 score 500.0 avg score 376.0 time_steps 83885 learning_steps 4194\n",
      "episode 295 score 428.0 avg score 375.3 time_steps 84313 learning_steps 4215\n",
      "episode 296 score 438.0 avg score 374.7 time_steps 84751 learning_steps 4237\n",
      "episode 297 score 500.0 avg score 374.7 time_steps 85251 learning_steps 4262\n",
      "episode 298 score 335.0 avg score 373.0 time_steps 85586 learning_steps 4279\n",
      "episode 299 score 318.0 avg score 371.2 time_steps 85904 learning_steps 4295\n"
     ]
    },
    {
     "data": {
      "image/png": "[encoded data removed]",
      "text/plain": [
       "<Figure size 432x288 with 1 Axes>"
      ]
     },
     "metadata": {
      "needs_background": "light"
     },
     "output_type": "display_data"
    }
   ],
   "source": [
    "env = gym.make('CartPole-v1')\n",
    "# env=gym.make('MountainCar-v0')\n",
    "N = 20\n",
    "batch_size = 5\n",
    "n_epochs = 4\n",
    "alpha = 0.0003\n",
    "agent = PpoAgent(n_actions=env.action_space.n, batch_size=batch_size, \n",
    "                alpha=alpha, n_epochs=n_epochs, \n",
    "                input_dims=env.observation_space.shape)\n",
    "n_games = 300\n",
    "WRITER=SummaryWriter('runs/PPO_'+str(time.strftime(\"%H_%M_%S\",time.localtime())))\n",
    "figure_file = 'plots/cartpole.png'\n",
    "\n",
    "best_score = env.reward_range[0]\n",
    "score_history = []\n",
    "\n",
    "learn_iters = 0\n",
    "avg_score = 0\n",
    "n_steps = 0\n",
    "\n",
    "for i in range(n_games):\n",
    "    observation = env.reset()\n",
    "    done = False\n",
    "    score = 0\n",
    "    WRITER.add_histogram(\"actor_layer_0\", agent.actor.actor[0].weight.flatten(), global_step=i, bins='tensorflow')\n",
    "    WRITER.add_histogram(\"actor_layer_1\", agent.actor.actor[2].weight.flatten(), global_step=i, bins='tensorflow')\n",
    "    WRITER.add_histogram(\"actor_layer_2\", agent.actor.actor[4].weight.flatten(), global_step=i, bins='tensorflow')\n",
    "    WRITER.add_histogram(\"critic_layer_0\", agent.critic.critic[0].weight.flatten(), global_step=i, bins='tensorflow')\n",
    "    WRITER.add_histogram(\"critic_layer_1\", agent.critic.critic[2].weight.flatten(), global_step=i, bins='tensorflow')\n",
    "    WRITER.add_histogram(\"critic_layer_2\", agent.critic.critic[4].weight.flatten(), global_step=i, bins='tensorflow')\n",
    "    WRITER.add_scalar(\"actor_loss\", agent.actor_loss, i)\n",
    "    WRITER.add_scalar(\"critic_loss\", agent.critic_loss, i)\n",
    "    WRITER.add_scalar(\"total_loss\", agent.total_loss, i)\n",
    "    while not done:\n",
    "        action, prob, val = agent.choose_action(observation)\n",
    "        observation_, reward, done, info = env.step(action)\n",
    "        n_steps += 1\n",
    "        score += reward\n",
    "        agent.remember(observation, action, prob, val, reward, done)\n",
    "        if n_steps % N == 0:\n",
    "            agent.learn()\n",
    "            learn_iters += 1\n",
    "        observation = observation_\n",
    "    score_history.append(score)\n",
    "    WRITER.add_scalar(\"score\", score, i)\n",
    "    avg_score = np.mean(score_history[-100:])\n",
    "\n",
    "    # if avg_score > best_score:\n",
    "    #     best_score = avg_score\n",
    "    #     agent.save_models()\n",
    "\n",
    "    print('episode', i, 'score %.1f' % score, 'avg score %.1f' % avg_score,\n",
    "            'time_steps', n_steps, 'learning_steps', learn_iters)\n",
    "x = [i+1 for i in range(len(score_history))]\n",
    "plot_learning_curve(x, score_history, figure_file)"
   ]
  },
  {
   "cell_type": "code",
   "execution_count": 4,
   "id": "054fee6f-f18f-420d-b285-5338cfa44785",
   "metadata": {},
   "outputs": [
    {
     "data": {
      "text/plain": [
       "=================================================================\n",
       "Layer (type:depth-idx)                   Param #\n",
       "=================================================================\n",
       "ActorNetwork                             --\n",
       "├─Sequential: 1-1                        --\n",
       "│    └─Linear: 2-1                       1,280\n",
       "│    └─ReLU: 2-2                         --\n",
       "│    └─Linear: 2-3                       65,792\n",
       "│    └─ReLU: 2-4                         --\n",
       "│    └─Linear: 2-5                       514\n",
       "│    └─Softmax: 2-6                      --\n",
       "=================================================================\n",
       "Total params: 67,586\n",
       "Trainable params: 67,586\n",
       "Non-trainable params: 0\n",
       "================================================================="
      ]
     },
     "execution_count": 4,
     "metadata": {},
     "output_type": "execute_result"
    }
   ],
   "source": [
    "from torchinfo import summary\n",
    "summary(agent.actor,input_dims=env.observation_space.shape)"
   ]
  },
  {
   "cell_type": "code",
   "execution_count": 5,
   "id": "2225d7a8-88e9-41ad-815c-2ad04b85f448",
   "metadata": {},
   "outputs": [
    {
     "name": "stdout",
     "output_type": "stream",
     "text": [
      "[(32, 34.9238114, 40, 10, 30), (32, 34.9238114, 40, 10, 40), (32, 34.9238114, 40, 10, 50), (32, 222.6392977, 40, 10, 30), (32, 222.6392977, 40, 10, 40), (32, 222.6392977, 40, 10, 50), (32, 222.6392977, 40, 10, 60), (32, 222.64, 40, 10, 30), (32, 222.64, 40, 10, 40), (32, 222.64, 40, 10, 50), (32, 222.64, 40, 10, 60), (32, 222.64, 40, 10, 70), (32, 222.64, 40, 10, 80), (32, 222.64, 40, 10, 90), (64, 222.6343047, 40, 10, 30), (64, 222.6343047, 40, 10, 40), (64, 222.6343047, 40, 10, 60), (128, 222.7841896, 40, 10, 30), (128, 222.7841896, 40, 10, 40), (250, 2.410113346, 40, 10, 30), (250, 2.410113346, 40, 10, 40), (250, 2.410113346, 40, 10, 50), (250, 2.410113346, 40, 10, 60), (250, 2.410113346, 40, 10, 70), (250, 2.410113346, 40, 10, 80), (250, 2.410113346, 40, 10, 90), (500, 0.098544573, 40, 10, 30), (500, 0.098544573, 40, 10, 40), (500, 100.91, 40, 10, 30), (500, 100.91, 40, 10, 40), (500, 100.91, 40, 10, 50), (500, 100.91, 40, 10, 70), (500, 100.91, 40, 10, 80), (500, 100.91, 40, 10, 90), (2500, 2.40051372, 40, 10, 30), (2500, 2.40051372, 40, 10, 40), (2500, 2.40051372, 40, 10, 50), (10000, 0.099238106, 40, 10, 30)]\n",
      "38\n"
     ]
    }
   ],
   "source": [
    "from fileData import *\n",
    "from netEnv import *\n",
    "import time\n",
    "import matplotlib.pyplot as plt\n",
    "\n",
    "\n",
    "\n",
    "code_path = \"../../\"\n",
    "requiredFields = ['FileCount', 'AvgFileSize', 'BufSize', 'Bandwidth', 'AvgRtt', 'CC_Level', 'P_Level', 'PP_Level',\n",
    "                  'numActiveCores', 'frequency', 'TotalAvgTput', 'TotalEnergy', 'DataTransferEnergy']\n",
    "LabelName = 'TotalAvgTput'\n",
    "fileData_chameleon = ReadFile(code_path + '/Dataset/Chameleon_Combined_all.csv', requiredFields)\n",
    "filedata_grouped_df = fileData_chameleon.get_grouped_df()\n",
    "filedata_keys=[key for key, _ in filedata_grouped_df]\n",
    "print(filedata_keys)\n",
    "print(len(filedata_keys))"
   ]
  },
  {
   "cell_type": "code",
   "execution_count": 18,
   "id": "29639573-827f-471f-a493-5e3a758ad523",
   "metadata": {},
   "outputs": [
    {
     "name": "stdout",
     "output_type": "stream",
     "text": [
      "8\n",
      "9\n",
      "#################\n"
     ]
    },
    {
     "name": "stderr",
     "output_type": "stream",
     "text": [
      "/home/hjamil/venv/lib/python3.10/site-packages/torch/utils/tensorboard/summary.py:344: DeprecationWarning: using `dtype=` in comparisons is only useful for `dtype=object` (and will do nothing for bool). This operation will fail in the future.\n",
      "  cum_counts = np.cumsum(np.greater(counts, 0, dtype=np.int32))\n"
     ]
    },
    {
     "name": "stdout",
     "output_type": "stream",
     "text": [
      "episode 0 score 76.8 avg score 76.8 time_steps 100 learning_steps 5\n"
     ]
    },
    {
     "name": "stderr",
     "output_type": "stream",
     "text": [
      "/home/hjamil/venv/lib/python3.10/site-packages/torch/utils/tensorboard/summary.py:344: DeprecationWarning: using `dtype=` in comparisons is only useful for `dtype=object` (and will do nothing for bool). This operation will fail in the future.\n",
      "  cum_counts = np.cumsum(np.greater(counts, 0, dtype=np.int32))\n"
     ]
    },
    {
     "name": "stdout",
     "output_type": "stream",
     "text": [
      "episode 1 score 76.6 avg score 76.7 time_steps 200 learning_steps 10\n"
     ]
    },
    {
     "name": "stderr",
     "output_type": "stream",
     "text": [
      "/home/hjamil/venv/lib/python3.10/site-packages/torch/utils/tensorboard/summary.py:344: DeprecationWarning: using `dtype=` in comparisons is only useful for `dtype=object` (and will do nothing for bool). This operation will fail in the future.\n",
      "  cum_counts = np.cumsum(np.greater(counts, 0, dtype=np.int32))\n"
     ]
    },
    {
     "name": "stdout",
     "output_type": "stream",
     "text": [
      "episode 2 score 76.6 avg score 76.6 time_steps 300 learning_steps 15\n"
     ]
    },
    {
     "name": "stderr",
     "output_type": "stream",
     "text": [
      "/home/hjamil/venv/lib/python3.10/site-packages/torch/utils/tensorboard/summary.py:344: DeprecationWarning: using `dtype=` in comparisons is only useful for `dtype=object` (and will do nothing for bool). This operation will fail in the future.\n",
      "  cum_counts = np.cumsum(np.greater(counts, 0, dtype=np.int32))\n"
     ]
    },
    {
     "name": "stdout",
     "output_type": "stream",
     "text": [
      "episode 3 score 76.6 avg score 76.6 time_steps 400 learning_steps 20\n"
     ]
    },
    {
     "name": "stderr",
     "output_type": "stream",
     "text": [
      "/home/hjamil/venv/lib/python3.10/site-packages/torch/utils/tensorboard/summary.py:344: DeprecationWarning: using `dtype=` in comparisons is only useful for `dtype=object` (and will do nothing for bool). This operation will fail in the future.\n",
      "  cum_counts = np.cumsum(np.greater(counts, 0, dtype=np.int32))\n"
     ]
    },
    {
     "name": "stdout",
     "output_type": "stream",
     "text": [
      "episode 4 score 76.6 avg score 76.6 time_steps 500 learning_steps 25\n"
     ]
    },
    {
     "name": "stderr",
     "output_type": "stream",
     "text": [
      "/home/hjamil/venv/lib/python3.10/site-packages/torch/utils/tensorboard/summary.py:344: DeprecationWarning: using `dtype=` in comparisons is only useful for `dtype=object` (and will do nothing for bool). This operation will fail in the future.\n",
      "  cum_counts = np.cumsum(np.greater(counts, 0, dtype=np.int32))\n"
     ]
    },
    {
     "name": "stdout",
     "output_type": "stream",
     "text": [
      "episode 5 score 76.6 avg score 76.6 time_steps 600 learning_steps 30\n"
     ]
    },
    {
     "name": "stderr",
     "output_type": "stream",
     "text": [
      "/home/hjamil/venv/lib/python3.10/site-packages/torch/utils/tensorboard/summary.py:344: DeprecationWarning: using `dtype=` in comparisons is only useful for `dtype=object` (and will do nothing for bool). This operation will fail in the future.\n",
      "  cum_counts = np.cumsum(np.greater(counts, 0, dtype=np.int32))\n"
     ]
    },
    {
     "name": "stdout",
     "output_type": "stream",
     "text": [
      "episode 6 score 76.6 avg score 76.6 time_steps 700 learning_steps 35\n"
     ]
    },
    {
     "name": "stderr",
     "output_type": "stream",
     "text": [
      "/home/hjamil/venv/lib/python3.10/site-packages/torch/utils/tensorboard/summary.py:344: DeprecationWarning: using `dtype=` in comparisons is only useful for `dtype=object` (and will do nothing for bool). This operation will fail in the future.\n",
      "  cum_counts = np.cumsum(np.greater(counts, 0, dtype=np.int32))\n"
     ]
    },
    {
     "name": "stdout",
     "output_type": "stream",
     "text": [
      "episode 7 score 76.6 avg score 76.6 time_steps 800 learning_steps 40\n"
     ]
    },
    {
     "name": "stderr",
     "output_type": "stream",
     "text": [
      "/home/hjamil/venv/lib/python3.10/site-packages/torch/utils/tensorboard/summary.py:344: DeprecationWarning: using `dtype=` in comparisons is only useful for `dtype=object` (and will do nothing for bool). This operation will fail in the future.\n",
      "  cum_counts = np.cumsum(np.greater(counts, 0, dtype=np.int32))\n"
     ]
    },
    {
     "name": "stdout",
     "output_type": "stream",
     "text": [
      "episode 8 score 76.6 avg score 76.6 time_steps 900 learning_steps 45\n"
     ]
    },
    {
     "name": "stderr",
     "output_type": "stream",
     "text": [
      "/home/hjamil/venv/lib/python3.10/site-packages/torch/utils/tensorboard/summary.py:344: DeprecationWarning: using `dtype=` in comparisons is only useful for `dtype=object` (and will do nothing for bool). This operation will fail in the future.\n",
      "  cum_counts = np.cumsum(np.greater(counts, 0, dtype=np.int32))\n"
     ]
    },
    {
     "name": "stdout",
     "output_type": "stream",
     "text": [
      "episode 9 score 76.6 avg score 76.6 time_steps 1000 learning_steps 50\n"
     ]
    },
    {
     "name": "stderr",
     "output_type": "stream",
     "text": [
      "/home/hjamil/venv/lib/python3.10/site-packages/torch/utils/tensorboard/summary.py:344: DeprecationWarning: using `dtype=` in comparisons is only useful for `dtype=object` (and will do nothing for bool). This operation will fail in the future.\n",
      "  cum_counts = np.cumsum(np.greater(counts, 0, dtype=np.int32))\n"
     ]
    },
    {
     "name": "stdout",
     "output_type": "stream",
     "text": [
      "episode 10 score 76.6 avg score 76.6 time_steps 1100 learning_steps 55\n"
     ]
    },
    {
     "name": "stderr",
     "output_type": "stream",
     "text": [
      "/home/hjamil/venv/lib/python3.10/site-packages/torch/utils/tensorboard/summary.py:344: DeprecationWarning: using `dtype=` in comparisons is only useful for `dtype=object` (and will do nothing for bool). This operation will fail in the future.\n",
      "  cum_counts = np.cumsum(np.greater(counts, 0, dtype=np.int32))\n"
     ]
    },
    {
     "name": "stdout",
     "output_type": "stream",
     "text": [
      "episode 11 score 76.6 avg score 76.6 time_steps 1200 learning_steps 60\n"
     ]
    },
    {
     "name": "stderr",
     "output_type": "stream",
     "text": [
      "/home/hjamil/venv/lib/python3.10/site-packages/torch/utils/tensorboard/summary.py:344: DeprecationWarning: using `dtype=` in comparisons is only useful for `dtype=object` (and will do nothing for bool). This operation will fail in the future.\n",
      "  cum_counts = np.cumsum(np.greater(counts, 0, dtype=np.int32))\n"
     ]
    },
    {
     "name": "stdout",
     "output_type": "stream",
     "text": [
      "episode 12 score 76.6 avg score 76.6 time_steps 1300 learning_steps 65\n"
     ]
    },
    {
     "name": "stderr",
     "output_type": "stream",
     "text": [
      "/home/hjamil/venv/lib/python3.10/site-packages/torch/utils/tensorboard/summary.py:344: DeprecationWarning: using `dtype=` in comparisons is only useful for `dtype=object` (and will do nothing for bool). This operation will fail in the future.\n",
      "  cum_counts = np.cumsum(np.greater(counts, 0, dtype=np.int32))\n"
     ]
    },
    {
     "name": "stdout",
     "output_type": "stream",
     "text": [
      "episode 13 score 76.6 avg score 76.6 time_steps 1400 learning_steps 70\n"
     ]
    },
    {
     "name": "stderr",
     "output_type": "stream",
     "text": [
      "/home/hjamil/venv/lib/python3.10/site-packages/torch/utils/tensorboard/summary.py:344: DeprecationWarning: using `dtype=` in comparisons is only useful for `dtype=object` (and will do nothing for bool). This operation will fail in the future.\n",
      "  cum_counts = np.cumsum(np.greater(counts, 0, dtype=np.int32))\n"
     ]
    },
    {
     "name": "stdout",
     "output_type": "stream",
     "text": [
      "episode 14 score 76.6 avg score 76.6 time_steps 1500 learning_steps 75\n"
     ]
    },
    {
     "name": "stderr",
     "output_type": "stream",
     "text": [
      "/home/hjamil/venv/lib/python3.10/site-packages/torch/utils/tensorboard/summary.py:344: DeprecationWarning: using `dtype=` in comparisons is only useful for `dtype=object` (and will do nothing for bool). This operation will fail in the future.\n",
      "  cum_counts = np.cumsum(np.greater(counts, 0, dtype=np.int32))\n"
     ]
    },
    {
     "name": "stdout",
     "output_type": "stream",
     "text": [
      "episode 15 score 76.6 avg score 76.6 time_steps 1600 learning_steps 80\n"
     ]
    },
    {
     "name": "stderr",
     "output_type": "stream",
     "text": [
      "/home/hjamil/venv/lib/python3.10/site-packages/torch/utils/tensorboard/summary.py:344: DeprecationWarning: using `dtype=` in comparisons is only useful for `dtype=object` (and will do nothing for bool). This operation will fail in the future.\n",
      "  cum_counts = np.cumsum(np.greater(counts, 0, dtype=np.int32))\n"
     ]
    },
    {
     "name": "stdout",
     "output_type": "stream",
     "text": [
      "episode 16 score 76.6 avg score 76.6 time_steps 1700 learning_steps 85\n"
     ]
    },
    {
     "name": "stderr",
     "output_type": "stream",
     "text": [
      "/home/hjamil/venv/lib/python3.10/site-packages/torch/utils/tensorboard/summary.py:344: DeprecationWarning: using `dtype=` in comparisons is only useful for `dtype=object` (and will do nothing for bool). This operation will fail in the future.\n",
      "  cum_counts = np.cumsum(np.greater(counts, 0, dtype=np.int32))\n"
     ]
    },
    {
     "name": "stdout",
     "output_type": "stream",
     "text": [
      "episode 17 score 76.6 avg score 76.6 time_steps 1800 learning_steps 90\n"
     ]
    },
    {
     "name": "stderr",
     "output_type": "stream",
     "text": [
      "/home/hjamil/venv/lib/python3.10/site-packages/torch/utils/tensorboard/summary.py:344: DeprecationWarning: using `dtype=` in comparisons is only useful for `dtype=object` (and will do nothing for bool). This operation will fail in the future.\n",
      "  cum_counts = np.cumsum(np.greater(counts, 0, dtype=np.int32))\n"
     ]
    },
    {
     "name": "stdout",
     "output_type": "stream",
     "text": [
      "episode 18 score 76.6 avg score 76.6 time_steps 1900 learning_steps 95\n"
     ]
    },
    {
     "name": "stderr",
     "output_type": "stream",
     "text": [
      "/home/hjamil/venv/lib/python3.10/site-packages/torch/utils/tensorboard/summary.py:344: DeprecationWarning: using `dtype=` in comparisons is only useful for `dtype=object` (and will do nothing for bool). This operation will fail in the future.\n",
      "  cum_counts = np.cumsum(np.greater(counts, 0, dtype=np.int32))\n"
     ]
    },
    {
     "name": "stdout",
     "output_type": "stream",
     "text": [
      "episode 19 score 76.6 avg score 76.6 time_steps 2000 learning_steps 100\n"
     ]
    },
    {
     "name": "stderr",
     "output_type": "stream",
     "text": [
      "/home/hjamil/venv/lib/python3.10/site-packages/torch/utils/tensorboard/summary.py:344: DeprecationWarning: using `dtype=` in comparisons is only useful for `dtype=object` (and will do nothing for bool). This operation will fail in the future.\n",
      "  cum_counts = np.cumsum(np.greater(counts, 0, dtype=np.int32))\n"
     ]
    },
    {
     "name": "stdout",
     "output_type": "stream",
     "text": [
      "episode 20 score 76.6 avg score 76.6 time_steps 2100 learning_steps 105\n"
     ]
    },
    {
     "name": "stderr",
     "output_type": "stream",
     "text": [
      "/home/hjamil/venv/lib/python3.10/site-packages/torch/utils/tensorboard/summary.py:344: DeprecationWarning: using `dtype=` in comparisons is only useful for `dtype=object` (and will do nothing for bool). This operation will fail in the future.\n",
      "  cum_counts = np.cumsum(np.greater(counts, 0, dtype=np.int32))\n"
     ]
    },
    {
     "name": "stdout",
     "output_type": "stream",
     "text": [
      "episode 21 score 76.6 avg score 76.6 time_steps 2200 learning_steps 110\n"
     ]
    },
    {
     "name": "stderr",
     "output_type": "stream",
     "text": [
      "/home/hjamil/venv/lib/python3.10/site-packages/torch/utils/tensorboard/summary.py:344: DeprecationWarning: using `dtype=` in comparisons is only useful for `dtype=object` (and will do nothing for bool). This operation will fail in the future.\n",
      "  cum_counts = np.cumsum(np.greater(counts, 0, dtype=np.int32))\n"
     ]
    },
    {
     "name": "stdout",
     "output_type": "stream",
     "text": [
      "episode 22 score 76.6 avg score 76.6 time_steps 2300 learning_steps 115\n"
     ]
    },
    {
     "name": "stderr",
     "output_type": "stream",
     "text": [
      "/home/hjamil/venv/lib/python3.10/site-packages/torch/utils/tensorboard/summary.py:344: DeprecationWarning: using `dtype=` in comparisons is only useful for `dtype=object` (and will do nothing for bool). This operation will fail in the future.\n",
      "  cum_counts = np.cumsum(np.greater(counts, 0, dtype=np.int32))\n"
     ]
    },
    {
     "name": "stdout",
     "output_type": "stream",
     "text": [
      "episode 23 score 76.6 avg score 76.6 time_steps 2400 learning_steps 120\n"
     ]
    },
    {
     "name": "stderr",
     "output_type": "stream",
     "text": [
      "/home/hjamil/venv/lib/python3.10/site-packages/torch/utils/tensorboard/summary.py:344: DeprecationWarning: using `dtype=` in comparisons is only useful for `dtype=object` (and will do nothing for bool). This operation will fail in the future.\n",
      "  cum_counts = np.cumsum(np.greater(counts, 0, dtype=np.int32))\n"
     ]
    },
    {
     "name": "stdout",
     "output_type": "stream",
     "text": [
      "episode 24 score 76.6 avg score 76.6 time_steps 2500 learning_steps 125\n"
     ]
    },
    {
     "name": "stderr",
     "output_type": "stream",
     "text": [
      "/home/hjamil/venv/lib/python3.10/site-packages/torch/utils/tensorboard/summary.py:344: DeprecationWarning: using `dtype=` in comparisons is only useful for `dtype=object` (and will do nothing for bool). This operation will fail in the future.\n",
      "  cum_counts = np.cumsum(np.greater(counts, 0, dtype=np.int32))\n"
     ]
    },
    {
     "name": "stdout",
     "output_type": "stream",
     "text": [
      "episode 25 score 76.6 avg score 76.6 time_steps 2600 learning_steps 130\n"
     ]
    },
    {
     "name": "stderr",
     "output_type": "stream",
     "text": [
      "/home/hjamil/venv/lib/python3.10/site-packages/torch/utils/tensorboard/summary.py:344: DeprecationWarning: using `dtype=` in comparisons is only useful for `dtype=object` (and will do nothing for bool). This operation will fail in the future.\n",
      "  cum_counts = np.cumsum(np.greater(counts, 0, dtype=np.int32))\n"
     ]
    },
    {
     "name": "stdout",
     "output_type": "stream",
     "text": [
      "episode 26 score 76.6 avg score 76.6 time_steps 2700 learning_steps 135\n"
     ]
    },
    {
     "name": "stderr",
     "output_type": "stream",
     "text": [
      "/home/hjamil/venv/lib/python3.10/site-packages/torch/utils/tensorboard/summary.py:344: DeprecationWarning: using `dtype=` in comparisons is only useful for `dtype=object` (and will do nothing for bool). This operation will fail in the future.\n",
      "  cum_counts = np.cumsum(np.greater(counts, 0, dtype=np.int32))\n"
     ]
    },
    {
     "name": "stdout",
     "output_type": "stream",
     "text": [
      "episode 27 score 76.6 avg score 76.6 time_steps 2800 learning_steps 140\n"
     ]
    },
    {
     "name": "stderr",
     "output_type": "stream",
     "text": [
      "/home/hjamil/venv/lib/python3.10/site-packages/torch/utils/tensorboard/summary.py:344: DeprecationWarning: using `dtype=` in comparisons is only useful for `dtype=object` (and will do nothing for bool). This operation will fail in the future.\n",
      "  cum_counts = np.cumsum(np.greater(counts, 0, dtype=np.int32))\n"
     ]
    },
    {
     "name": "stdout",
     "output_type": "stream",
     "text": [
      "episode 28 score 76.6 avg score 76.6 time_steps 2900 learning_steps 145\n"
     ]
    },
    {
     "name": "stderr",
     "output_type": "stream",
     "text": [
      "/home/hjamil/venv/lib/python3.10/site-packages/torch/utils/tensorboard/summary.py:344: DeprecationWarning: using `dtype=` in comparisons is only useful for `dtype=object` (and will do nothing for bool). This operation will fail in the future.\n",
      "  cum_counts = np.cumsum(np.greater(counts, 0, dtype=np.int32))\n"
     ]
    },
    {
     "name": "stdout",
     "output_type": "stream",
     "text": [
      "episode 29 score 76.6 avg score 76.6 time_steps 3000 learning_steps 150\n",
      "training up time is 18.55879783630371 seconds\n"
     ]
    },
    {
     "data": {
      "image/png": "[encoded data removed]",
      "text/plain": [
       "<Figure size 432x288 with 1 Axes>"
      ]
     },
     "metadata": {
      "needs_background": "light"
     },
     "output_type": "display_data"
    }
   ],
   "source": [
    "environmentG1=environmentGroups(fileData_chameleon.get_grouped_df(),fileData_chameleon.group_keys[9:10],0)\n",
    "env=NetEnvironment(environmentG1,fileData_chameleon.group_keys[9:10])\n",
    "\n",
    "print(env.observation_space.shape[0])\n",
    "print(env.action_space.n)\n",
    "print(\"#################\")\n",
    "env.reset()\n",
    "t = time.time()\n",
    "N = 20\n",
    "batch_size = 5\n",
    "n_epochs = 4\n",
    "alpha = 0.0003\n",
    "agent = PpoAgent(n_actions=env.action_space.n, batch_size=batch_size, \n",
    "                alpha=alpha, n_epochs=n_epochs, \n",
    "                input_dims=env.observation_space.shape)\n",
    "n_games = 30\n",
    "WRITER=SummaryWriter('runs/PPO_'+str(time.strftime(\"%H_%M_%S\",time.localtime())))\n",
    "figure_file = 'plots/env_file.png'\n",
    "\n",
    "score_history = []\n",
    "\n",
    "learn_iters = 0\n",
    "avg_score = 0\n",
    "n_steps = 0\n",
    "\n",
    "for i in range(n_games):\n",
    "    observation = env.reset()\n",
    "    done = False\n",
    "    score = 0\n",
    "    WRITER.add_histogram(\"actor_layer_0\", agent.actor.actor[0].weight.flatten(), global_step=i, bins='tensorflow')\n",
    "    WRITER.add_histogram(\"actor_layer_1\", agent.actor.actor[2].weight.flatten(), global_step=i, bins='tensorflow')\n",
    "    WRITER.add_histogram(\"actor_layer_2\", agent.actor.actor[4].weight.flatten(), global_step=i, bins='tensorflow')\n",
    "    WRITER.add_histogram(\"critic_layer_0\", agent.critic.critic[0].weight.flatten(), global_step=i, bins='tensorflow')\n",
    "    WRITER.add_histogram(\"critic_layer_1\", agent.critic.critic[2].weight.flatten(), global_step=i, bins='tensorflow')\n",
    "    WRITER.add_histogram(\"critic_layer_2\", agent.critic.critic[4].weight.flatten(), global_step=i, bins='tensorflow')\n",
    "    WRITER.add_scalar(\"actor_loss\", agent.actor_loss, i)\n",
    "    WRITER.add_scalar(\"critic_loss\", agent.critic_loss, i)\n",
    "    WRITER.add_scalar(\"total_loss\", agent.total_loss, i)\n",
    "    while not done:\n",
    "        action, prob, val = agent.choose_action(observation)\n",
    "        observation_, reward, done, info = env.step(action)\n",
    "        n_steps += 1\n",
    "        score += reward\n",
    "        agent.remember(observation, action, prob, val, reward, done)\n",
    "        if n_steps % N == 0:\n",
    "            agent.learn()\n",
    "            learn_iters += 1\n",
    "        observation = observation_\n",
    "    score_history.append(score)\n",
    "    WRITER.add_scalar(\"score\", score, i)\n",
    "    avg_score = np.mean(score_history[-100:])\n",
    "\n",
    "    print('episode', i, 'score %.1f' % score, 'avg score %.1f' % avg_score,\n",
    "            'time_steps', n_steps, 'learning_steps', learn_iters)\n",
    "x = [i+1 for i in range(len(score_history))]\n",
    "plot_learning_curve(x, score_history, figure_file)\n",
    "print(f\"training up time is {time.time()- t} seconds\")"
   ]
  },
  {
   "cell_type": "code",
   "execution_count": 22,
   "id": "8d7125e2-3a97-44c9-8f54-9458d9324c49",
   "metadata": {},
   "outputs": [
    {
     "data": {
      "application/vnd.jupyter.widget-view+json": {
       "model_id": "fdd0ba9b53f1442a8b7c94a803fe790b",
       "version_major": 2,
       "version_minor": 0
      },
      "text/plain": [
       "  0%|          | 0/10 [00:00<?, ?it/s]"
      ]
     },
     "metadata": {},
     "output_type": "display_data"
    },
    {
     "name": "stdout",
     "output_type": "stream",
     "text": [
      "Mean score 321.8\n",
      "Actual scores [323.0, 326.0, 345.0, 297.0, 337.0, 352.0, 296.0, 306.0, 326.0, 310.0]\n",
      "actions [[1, 0, 1, 1, 0, 1, 0, 0, 1, 0, 1, 0, 1, 0, 0, 1, 0, 1, 1, 0, 0, 0, 1, 1, 0, 1, 0, 0, 1, 0, 1, 0, 1, 0, 1, 0, 1, 0, 1, 0, 1, 0, 1, 0, 1, 0, 1, 1, 0, 1, 0, 1, 0, 1, 0, 1, 0, 0, 1, 1, 0, 1, 0, 1, 0, 1, 0, 1, 0, 0, 1, 0, 1, 0, 1, 1, 0, 0, 1, 1, 0, 1, 0, 1, 0, 0, 1, 0, 1, 0, 1, 1, 0, 0, 1, 0, 1, 0, 1, 0, 1, 0, 1, 0, 1, 0, 1, 0, 1, 0, 1, 0, 1, 0, 1, 0, 1, 0, 1, 0, 1, 0, 1, 0, 1, 1, 0, 1, 0, 1, 0, 0, 1, 0, 1, 0, 1, 0, 1, 0, 1, 0, 1, 0, 1, 0, 1, 1, 0, 1, 0, 0, 1, 0, 1, 0, 1, 0, 1, 0, 1, 0, 1, 0, 1, 0, 1, 0, 1, 0, 0, 1, 0, 1, 1, 0, 0, 1, 1, 0, 0, 1, 0, 1, 0, 1, 0, 1, 0, 1, 0, 1, 1, 0, 1, 0, 0, 1, 0, 1, 1, 0, 0, 1, 1, 0, 1, 0, 0, 1, 0, 1, 1, 0, 0, 1, 0, 1, 1, 0, 0, 1, 0, 1, 0, 1, 1, 0, 0, 1, 0, 1, 0, 1, 0, 1, 0, 1, 0, 1, 0, 0, 1, 0, 1, 1, 0, 0, 1, 0, 1, 0, 1, 0, 1, 0, 1, 0, 1, 0, 1, 0, 1, 1, 0, 0, 1, 0, 1, 0, 1, 0, 1, 0, 1, 0, 1, 0, 1, 0, 1, 0, 0, 1, 0, 1, 0, 1, 0, 1, 0, 1, 0, 1, 0, 1, 0, 1, 0, 1, 0, 1, 0, 1, 0, 1, 0, 0, 1, 0, 1, 1, 0, 0, 1, 1, 0, 0, 1, 0, 1, 0, 1], [1, 0, 1, 1, 0, 0, 1, 0, 1, 0, 0, 1, 0, 1, 1, 0, 0, 1, 0, 1, 1, 0, 0, 1, 0, 1, 0, 0, 1, 0, 1, 0, 1, 1, 0, 0, 1, 0, 1, 0, 1, 0, 1, 0, 1, 0, 1, 0, 1, 1, 0, 0, 1, 0, 1, 0, 1, 1, 0, 1, 0, 1, 0, 1, 0, 0, 1, 0, 1, 1, 0, 1, 0, 1, 0, 1, 0, 0, 1, 1, 0, 0, 1, 0, 1, 1, 0, 0, 1, 0, 1, 1, 0, 0, 1, 1, 0, 1, 0, 0, 1, 0, 1, 0, 1, 0, 1, 0, 1, 0, 1, 0, 1, 0, 1, 1, 0, 0, 1, 1, 0, 0, 1, 1, 0, 0, 1, 0, 1, 1, 0, 0, 1, 1, 0, 0, 1, 0, 1, 0, 1, 0, 1, 0, 1, 0, 1, 0, 1, 0, 1, 0, 0, 1, 1, 0, 1, 0, 0, 1, 1, 0, 1, 0, 0, 1, 1, 0, 0, 1, 1, 0, 1, 0, 1, 0, 1, 0, 1, 0, 1, 0, 0, 1, 1, 0, 0, 1, 0, 1, 0, 1, 0, 1, 1, 0, 0, 1, 1, 0, 1, 0, 0, 1, 0, 1, 1, 0, 1, 0, 1, 0, 0, 1, 1, 0, 0, 1, 0, 1, 0, 1, 0, 1, 0, 1, 0, 1, 0, 1, 0, 0, 1, 1, 0, 0, 1, 1, 0, 0, 1, 0, 1, 1, 0, 1, 0, 0, 1, 0, 1, 1, 0, 1, 0, 0, 1, 1, 0, 0, 1, 1, 0, 1, 0, 1, 0, 1, 0, 0, 1, 0, 1, 0, 0, 1, 1, 0, 0, 1, 1, 0, 1, 0, 0, 1, 0, 1, 1, 0, 0, 1, 0, 1, 0, 1, 0, 1, 0, 0, 1, 0, 1, 0, 1, 0, 1, 1, 0, 0, 1, 0, 1, 0, 1, 0, 1, 0, 1, 0, 1, 0, 1, 1, 0, 0], [1, 1, 0, 0, 1, 0, 1, 0, 1, 0, 1, 0, 1, 0, 1, 0, 0, 1, 0, 1, 0, 1, 0, 0, 1, 0, 1, 0, 1, 0, 1, 0, 1, 0, 1, 0, 1, 0, 1, 0, 1, 0, 1, 0, 1, 0, 1, 0, 1, 0, 1, 0, 1, 0, 1, 0, 1, 1, 0, 1, 0, 0, 1, 1, 0, 1, 0, 0, 1, 1, 0, 1, 0, 0, 1, 1, 0, 1, 0, 1, 0, 0, 1, 0, 1, 0, 1, 0, 1, 1, 0, 1, 0, 1, 0, 1, 0, 0, 1, 0, 1, 0, 1, 0, 1, 1, 0, 0, 1, 0, 1, 0, 1, 0, 1, 1, 0, 0, 1, 0, 1, 0, 1, 0, 1, 0, 1, 0, 1, 1, 0, 1, 0, 0, 1, 0, 1, 1, 0, 1, 0, 0, 1, 0, 1, 0, 1, 0, 1, 0, 1, 0, 0, 1, 1, 1, 0, 1, 0, 0, 1, 0, 1, 1, 0, 0, 1, 0, 1, 0, 1, 0, 1, 0, 1, 0, 1, 0, 1, 0, 1, 0, 1, 0, 0, 1, 1, 0, 0, 1, 1, 0, 0, 1, 0, 1, 1, 0, 0, 1, 1, 0, 0, 1, 1, 0, 0, 1, 0, 1, 0, 1, 0, 1, 0, 1, 0, 1, 0, 1, 0, 1, 0, 1, 0, 1, 0, 1, 1, 0, 0, 1, 0, 1, 0, 1, 0, 1, 0, 1, 0, 0, 1, 1, 0, 1, 0, 1, 0, 0, 1, 1, 0, 1, 0, 0, 1, 1, 0, 0, 1, 1, 0, 0, 1, 0, 1, 0, 1, 0, 1, 0, 1, 0, 1, 0, 1, 0, 1, 0, 1, 0, 1, 0, 1, 0, 1, 0, 1, 0, 0, 1, 1, 0, 0, 1, 0, 1, 0, 1, 0, 1, 0, 1, 0, 1, 0, 1, 0, 1, 0, 1, 1, 0, 0, 1, 0, 1, 0, 1, 0, 1, 0, 1, 1, 0, 0, 1, 0, 1, 0, 1, 0, 1, 0, 1, 0, 1, 0, 1, 0, 0, 1, 0, 1], [1, 0, 1, 0, 0, 1, 0, 1, 0, 1, 0, 1, 0, 1, 0, 1, 0, 0, 1, 0, 1, 0, 1, 0, 1, 0, 1, 0, 1, 0, 1, 0, 1, 0, 1, 0, 1, 0, 1, 0, 1, 0, 1, 0, 1, 0, 1, 0, 1, 0, 1, 0, 1, 0, 1, 1, 0, 0, 1, 0, 1, 0, 1, 0, 1, 0, 1, 0, 1, 0, 1, 1, 0, 1, 0, 1, 0, 1, 0, 0, 1, 0, 1, 0, 1, 0, 1, 1, 0, 0, 1, 1, 0, 0, 1, 0, 1, 0, 1, 0, 1, 0, 1, 0, 1, 0, 1, 0, 1, 0, 1, 0, 1, 0, 1, 0, 1, 0, 1, 0, 1, 0, 1, 0, 1, 0, 1, 1, 0, 0, 1, 0, 1, 0, 1, 0, 0, 1, 1, 0, 1, 0, 0, 1, 0, 1, 0, 1, 0, 1, 1, 0, 0, 1, 0, 1, 0, 1, 1, 0, 1, 0, 0, 1, 0, 1, 1, 0, 0, 1, 0, 1, 0, 1, 1, 0, 0, 1, 0, 1, 0, 1, 0, 1, 1, 0, 1, 0, 1, 0, 1, 0, 0, 1, 1, 0, 0, 1, 0, 1, 0, 1, 0, 1, 0, 1, 0, 1, 0, 1, 0, 0, 1, 0, 1, 0, 1, 0, 1, 0, 1, 0, 1, 0, 1, 0, 1, 0, 1, 0, 1, 0, 1, 0, 1, 0, 1, 0, 1, 0, 0, 1, 1, 0, 0, 1, 0, 1, 0, 1, 0, 1, 0, 1, 1, 0, 0, 1, 0, 1, 0, 1, 1, 0, 0, 1, 1, 0, 0, 1, 0, 1, 0, 1, 0, 1, 1, 0, 0, 1, 0, 1, 0, 1, 0, 1, 0, 1, 0, 1, 0, 1, 0, 1, 0, 0, 1], [1, 0, 1, 0, 0, 1, 1, 0, 0, 1, 0, 1, 0, 1, 0, 1, 0, 1, 0, 1, 0, 1, 0, 0, 1, 1, 0, 0, 1, 0, 1, 0, 1, 0, 1, 0, 1, 0, 1, 0, 1, 0, 1, 1, 0, 1, 0, 0, 1, 1, 0, 0, 1, 1, 0, 1, 0, 0, 1, 0, 1, 1, 0, 1, 0, 1, 0, 1, 0, 0, 1, 0, 1, 0, 1, 1, 0, 0, 1, 0, 1, 0, 1, 0, 1, 0, 1, 0, 1, 0, 1, 0, 1, 1, 0, 1, 0, 0, 1, 0, 1, 1, 0, 1, 0, 0, 1, 0, 1, 0, 1, 0, 1, 0, 1, 1, 0, 0, 1, 1, 0, 0, 1, 0, 1, 0, 1, 0, 1, 0, 1, 0, 1, 0, 1, 0, 0, 1, 1, 0, 1, 0, 1, 0, 1, 0, 1, 0, 1, 0, 1, 0, 1, 0, 1, 0, 1, 0, 1, 0, 1, 0, 1, 0, 1, 0, 1, 0, 1, 0, 1, 0, 1, 0, 1, 0, 1, 0, 1, 0, 0, 1, 0, 1, 1, 0, 1, 0, 0, 1, 1, 0, 0, 1, 0, 1, 0, 1, 0, 1, 1, 0, 0, 1, 0, 1, 0, 1, 0, 1, 0, 1, 0, 1, 0, 1, 0, 1, 0, 1, 0, 1, 0, 1, 0, 1, 1, 0, 1, 0, 1, 0, 0, 1, 1, 0, 1, 0, 0, 1, 1, 0, 0, 1, 0, 0, 1, 0, 1, 1, 0, 1, 0, 0, 1, 0, 1, 0, 1, 0, 1, 0, 1, 0, 0, 1, 0, 1, 0, 1, 1, 0, 1, 0, 1, 0, 0, 1, 1, 0, 1, 0, 1, 0, 0, 1, 0, 1, 0, 1, 0, 1, 0, 1, 0, 1, 1, 0, 1, 0, 0, 1, 0, 1, 0, 1, 0, 1, 1, 0, 0, 1, 0, 1, 0, 1, 1, 0, 0, 1, 0, 1, 0, 1, 0, 1, 0, 0, 1, 1, 0, 1, 0, 1, 0, 0, 1], [1, 1, 0, 1, 0, 0, 1, 0, 1, 0, 1, 0, 1, 1, 0, 0, 1, 0, 1, 0, 1, 0, 1, 0, 0, 1, 1, 0, 0, 1, 0, 1, 0, 1, 0, 0, 1, 1, 0, 0, 1, 1, 0, 0, 1, 0, 1, 0, 1, 1, 0, 1, 0, 0, 1, 1, 0, 0, 1, 1, 0, 0, 1, 1, 0, 1, 0, 1, 0, 1, 1, 0, 1, 0, 0, 1, 0, 1, 0, 1, 0, 1, 1, 0, 0, 1, 0, 1, 0, 1, 0, 1, 0, 1, 0, 1, 0, 1, 0, 1, 0, 0, 1, 1, 0, 0, 1, 1, 0, 0, 1, 1, 0, 1, 0, 0, 1, 1, 0, 0, 1, 1, 0, 1, 0, 1, 0, 0, 1, 1, 0, 1, 0, 1, 0, 1, 0, 1, 0, 1, 0, 1, 0, 1, 0, 1, 0, 1, 0, 0, 1, 0, 1, 1, 0, 0, 1, 1, 0, 0, 1, 0, 1, 0, 1, 0, 1, 0, 0, 1, 1, 0, 1, 0, 1, 0, 0, 1, 1, 0, 1, 0, 1, 0, 1, 0, 1, 0, 0, 1, 0, 1, 1, 0, 0, 1, 0, 1, 1, 0, 1, 0, 1, 0, 1, 0, 1, 0, 1, 0, 1, 0, 1, 0, 1, 0, 1, 0, 1, 0, 1, 0, 1, 0, 1, 0, 1, 0, 1, 1, 0, 0, 1, 0, 1, 0, 1, 0, 0, 1, 0, 1, 0, 1, 0, 1, 1, 0, 1, 0, 0, 1, 0, 1, 0, 1, 0, 1, 0, 1, 0, 1, 0, 1, 0, 1, 0, 0, 1, 1, 0, 0, 1, 1, 0, 1, 0, 0, 1, 0, 1, 1, 0, 1, 0, 1, 0, 0, 1, 0, 1, 0, 1, 0, 1, 0, 1, 0, 1, 0, 1, 0, 1, 0, 1, 0, 1, 0, 1, 0, 1, 0, 1, 0, 1, 0, 1, 0, 1, 0, 1, 0, 0, 1, 0, 1, 1, 0, 0, 1, 0, 1, 0, 1, 0, 1, 0, 1, 0, 1, 0, 1, 0, 0, 1, 1, 0, 0, 1, 1, 0, 1], [0, 1, 1, 0, 1, 0, 1, 0, 1, 0, 0, 1, 0, 1, 0, 1, 0, 1, 0, 0, 1, 0, 1, 0, 1, 0, 1, 0, 1, 1, 0, 0, 1, 1, 0, 1, 0, 1, 0, 1, 0, 0, 1, 1, 0, 1, 0, 0, 1, 0, 1, 1, 0, 0, 1, 1, 0, 1, 0, 1, 0, 1, 0, 1, 0, 1, 0, 1, 0, 0, 1, 0, 1, 0, 1, 0, 1, 0, 1, 0, 1, 1, 0, 1, 0, 0, 1, 1, 0, 1, 0, 1, 0, 0, 1, 0, 1, 0, 1, 0, 1, 1, 0, 0, 1, 0, 1, 0, 1, 0, 1, 0, 1, 0, 1, 0, 1, 0, 1, 0, 1, 1, 0, 0, 1, 1, 0, 1, 0, 0, 1, 0, 1, 0, 1, 0, 1, 0, 1, 0, 1, 0, 1, 0, 1, 1, 0, 1, 0, 0, 1, 0, 1, 0, 1, 0, 1, 0, 1, 0, 0, 1, 1, 0, 1, 0, 1, 0, 1, 0, 0, 1, 0, 1, 0, 1, 0, 1, 0, 1, 0, 1, 0, 1, 1, 0, 0, 1, 0, 1, 0, 1, 1, 0, 0, 1, 0, 1, 0, 1, 0, 1, 0, 1, 0, 1, 0, 1, 0, 1, 0, 1, 0, 1, 0, 1, 0, 1, 0, 1, 0, 1, 1, 0, 0, 1, 0, 1, 0, 1, 0, 1, 0, 0, 1, 0, 1, 0, 1, 0, 1, 0, 1, 0, 1, 0, 1, 0, 1, 0, 1, 0, 1, 0, 1, 0, 1, 0, 0, 1, 0, 1, 0, 1, 0, 1, 1, 0, 0, 1, 0, 1, 0, 1, 0, 1, 0, 1, 0, 1, 0, 1, 0, 1, 0, 1, 0, 1, 0, 1, 0, 0, 1, 1, 0, 0], [0, 1, 0, 1, 0, 1, 0, 1, 0, 1, 0, 0, 1, 0, 1, 0, 1, 0, 1, 0, 1, 0, 1, 0, 1, 0, 1, 1, 0, 0, 1, 1, 0, 1, 0, 1, 0, 1, 0, 0, 1, 1, 0, 0, 1, 1, 0, 0, 1, 1, 0, 1, 0, 0, 1, 0, 1, 1, 0, 0, 1, 0, 1, 1, 0, 1, 0, 0, 1, 0, 1, 1, 0, 0, 1, 0, 1, 1, 0, 1, 0, 1, 0, 0, 1, 1, 0, 0, 1, 0, 1, 1, 0, 0, 1, 0, 1, 0, 1, 0, 1, 1, 0, 0, 1, 1, 0, 1, 0, 0, 1, 0, 1, 0, 1, 0, 1, 0, 1, 0, 1, 1, 0, 0, 1, 0, 1, 1, 0, 0, 1, 0, 1, 0, 1, 0, 1, 0, 1, 0, 1, 0, 1, 0, 0, 1, 1, 0, 0, 1, 1, 0, 0, 1, 0, 1, 0, 1, 0, 1, 1, 0, 1, 0, 1, 0, 0, 1, 0, 1, 0, 1, 1, 0, 1, 0, 1, 0, 0, 1, 0, 1, 0, 1, 1, 0, 0, 1, 1, 0, 0, 1, 0, 1, 0, 1, 1, 0, 0, 1, 0, 1, 0, 1, 0, 1, 0, 1, 0, 1, 0, 0, 1, 0, 1, 1, 0, 1, 0, 1, 0, 1, 0, 1, 0, 0, 1, 1, 0, 0, 1, 1, 0, 0, 1, 0, 1, 0, 1, 0, 1, 0, 1, 0, 1, 0, 1, 0, 1, 1, 0, 0, 1, 0, 1, 0, 1, 0, 1, 1, 0, 0, 1, 0, 1, 0, 1, 0, 1, 0, 1, 0, 1, 0, 1, 0, 1, 0, 0, 1, 1, 0, 0, 1, 0, 1, 0, 0, 1, 0, 1, 0, 1, 0, 1, 0, 1, 0, 1, 1, 0, 0, 1, 1, 0, 1], [1, 0, 1, 0, 1, 0, 1, 0, 0, 1, 1, 0, 0, 1, 1, 0, 0, 0, 1, 1, 0, 0, 1, 0, 1, 0, 1, 0, 1, 0, 1, 0, 1, 0, 1, 0, 1, 0, 1, 0, 1, 0, 1, 1, 0, 0, 1, 0, 1, 1, 0, 1, 0, 1, 0, 1, 0, 1, 0, 1, 0, 1, 0, 1, 0, 1, 0, 1, 0, 1, 0, 0, 1, 1, 0, 1, 0, 0, 1, 0, 1, 0, 1, 0, 1, 0, 1, 1, 0, 0, 1, 1, 0, 0, 1, 1, 0, 0, 1, 0, 1, 1, 0, 0, 1, 0, 1, 1, 0, 1, 0, 0, 1, 0, 1, 1, 0, 1, 0, 1, 0, 1, 0, 0, 1, 0, 1, 1, 0, 0, 1, 0, 1, 0, 1, 1, 0, 1, 0, 1, 0, 1, 0, 0, 1, 0, 0, 1, 1, 0, 1, 0, 0, 1, 1, 0, 1, 0, 1, 0, 0, 1, 0, 1, 1, 0, 0, 1, 1, 0, 1, 0, 1, 0, 1, 0, 1, 0, 1, 0, 0, 1, 0, 1, 0, 1, 0, 1, 0, 1, 0, 1, 0, 1, 0, 1, 0, 1, 0, 1, 0, 1, 1, 0, 0, 1, 1, 0, 0, 1, 0, 1, 0, 1, 0, 1, 0, 1, 0, 1, 1, 0, 0, 1, 0, 1, 1, 0, 0, 1, 0, 1, 0, 1, 0, 1, 0, 1, 1, 0, 0, 1, 0, 1, 0, 1, 0, 1, 0, 0, 1, 0, 1, 0, 1, 0, 1, 0, 1, 1, 0, 0, 1, 0, 1, 0, 1, 0, 1, 0, 1, 0, 0, 1, 1, 0, 0, 1, 0, 1, 1, 0, 1, 0, 0, 1, 0, 1, 0, 1, 0, 1, 0, 1, 0, 1, 0, 1, 1, 0, 1, 0, 0, 1, 0, 1, 0, 1, 0, 1, 1, 0, 0, 1, 0, 1, 0, 1, 0, 1, 0, 1, 0, 1, 0, 0], [1, 0, 1, 0, 1, 0, 1, 0, 0, 1, 0, 1, 0, 1, 0, 0, 1, 0, 1, 0, 1, 0, 0, 1, 1, 0, 0, 1, 1, 0, 1, 0, 1, 1, 0, 1, 0, 1, 0, 1, 0, 0, 1, 1, 0, 1, 0, 0, 1, 1, 0, 1, 0, 0, 1, 0, 1, 1, 0, 1, 0, 1, 0, 1, 0, 1, 0, 1, 0, 1, 0, 1, 0, 1, 0, 1, 0, 1, 0, 1, 0, 0, 1, 0, 1, 1, 0, 0, 1, 1, 0, 0, 1, 0, 1, 0, 1, 0, 1, 0, 1, 0, 1, 0, 1, 1, 0, 1, 0, 0, 1, 0, 1, 0, 1, 0, 1, 0, 1, 0, 1, 1, 0, 0, 1, 1, 0, 0, 1, 1, 0, 0, 1, 1, 0, 0, 1, 1, 0, 0, 1, 0, 1, 0, 1, 1, 0, 0, 1, 0, 1, 0, 1, 0, 1, 0, 1, 0, 1, 0, 1, 0, 1, 0, 0, 1, 0, 1, 0, 1, 0, 1, 0, 1, 0, 1, 0, 1, 1, 0, 0, 1, 0, 1, 1, 0, 1, 0, 1, 0, 1, 0, 1, 0, 1, 0, 1, 0, 0, 1, 1, 1, 0, 0, 0, 1, 0, 1, 0, 1, 0, 1, 0, 1, 0, 1, 0, 1, 0, 1, 0, 0, 1, 1, 0, 1, 0, 0, 1, 0, 1, 0, 1, 0, 1, 0, 1, 0, 1, 0, 1, 0, 1, 1, 0, 0, 1, 1, 0, 1, 0, 0, 1, 0, 1, 0, 1, 0, 1, 0, 1, 0, 1, 0, 1, 0, 0, 1, 1, 0, 1, 0, 0, 1, 1, 0, 1, 0, 0, 1, 0, 1, 1, 0, 0, 1, 0, 1, 0, 1, 0, 1, 0, 1, 0, 1, 0, 1, 0, 1, 0, 1, 0, 0, 1, 1, 0, 1, 0, 0]]\n"
     ]
    }
   ],
   "source": [
    "done = False\n",
    "state = env.reset()\n",
    "scores = []\n",
    "action_list=[]\n",
    "import tqdm\n",
    "for _ in tqdm.notebook.tqdm(range(10)):\n",
    "    observation = env.reset()\n",
    "    done = False\n",
    "    score = 0\n",
    "    actions=[]\n",
    "    while not done:\n",
    "        action, prob, val = agent.choose_action(observation)\n",
    "        observation_, reward, done, info = env.step(action)\n",
    "        actions.append(action)\n",
    "        score += reward\n",
    "        observation = observation_\n",
    "    scores.append(score)\n",
    "    action_list.append(actions)\n",
    "env.close()\n",
    "print(\"Mean score\",np.array(scores).mean())\n",
    "print(\"Actual scores\", scores)\n",
    "print(\"actions\", action_list)"
   ]
  },
  {
   "cell_type": "code",
   "execution_count": null,
   "id": "762faa1f-d602-49d9-9228-65c494a3c14d",
   "metadata": {},
   "outputs": [],
   "source": []
  }
 ],
 "metadata": {
  "kernelspec": {
   "display_name": "Python 3 (ipykernel)",
   "language": "python",
   "name": "python3"
  },
  "language_info": {
   "codemirror_mode": {
    "name": "ipython",
    "version": 3
   },
   "file_extension": ".py",
   "mimetype": "text/x-python",
   "name": "python",
   "nbconvert_exporter": "python",
   "pygments_lexer": "ipython3",
   "version": "3.10.4"
  },
  "vscode": {
   "interpreter": {
    "hash": "916dbcbb3f70747c44a77c7bcd40155683ae19c65e1c03b4aa3499c5328201f1"
   }
  }
 },
 "nbformat": 4,
 "nbformat_minor": 5
}
