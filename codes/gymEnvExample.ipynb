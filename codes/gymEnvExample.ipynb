{
 "cells": [
  {
   "cell_type": "code",
   "execution_count": 1,
   "id": "6d55b744",
   "metadata": {},
   "outputs": [],
   "source": [
    "import gym\n",
    "from gym import spaces\n",
    "import numpy as np\n",
    "\n",
    "class NetEnvironment(gym.Env):\n",
    "    metadata = {'render.modes': []}\n",
    "    def __init__(self):\n",
    "        \n",
    "        self.observation_space = spaces.Box(low=0, high=np.inf, shape=(8,), dtype=np.float32)\n",
    "        self.action_space = spaces.Tuple((\n",
    "                            spaces.Discrete(5),\n",
    "                            spaces.Discrete(1),\n",
    "                            spaces.Discrete(5)))\n",
    "        \n",
    "        self.obs_shape=(8,)\n",
    "\n",
    "    def reset(self):\n",
    "        pass\n",
    "\n",
    "    def step(self, action):\n",
    "        pass\n",
    "\n",
    "    def get_actions(self):\n",
    "        pass\n",
    "\n",
    "    def get_states(self):\n",
    "        pass\n",
    "\n",
    "    def get_max_throughput(self):\n",
    "        pass\n",
    "\n",
    "    def get_time(self):\n",
    "        pass\n",
    "\n",
    "    def render(self):\n",
    "        pass\n",
    "\n"
   ]
  },
  {
   "cell_type": "code",
   "execution_count": 2,
   "id": "d9e0cac2",
   "metadata": {},
   "outputs": [],
   "source": [
    "env=NetEnvironment()"
   ]
  },
  {
   "cell_type": "code",
   "execution_count": 8,
   "id": "2c45bc71",
   "metadata": {},
   "outputs": [
    {
     "data": {
      "text/plain": [
       "(2, 0, 4)"
      ]
     },
     "execution_count": 8,
     "metadata": {},
     "output_type": "execute_result"
    }
   ],
   "source": [
    "env.action_space.sample()"
   ]
  },
  {
   "cell_type": "code",
   "execution_count": null,
   "id": "e2a2b966",
   "metadata": {},
   "outputs": [],
   "source": []
  }
 ],
 "metadata": {
  "kernelspec": {
   "display_name": "Python 3 (ipykernel)",
   "language": "python",
   "name": "python3"
  },
  "language_info": {
   "codemirror_mode": {
    "name": "ipython",
    "version": 3
   },
   "file_extension": ".py",
   "mimetype": "text/x-python",
   "name": "python",
   "nbconvert_exporter": "python",
   "pygments_lexer": "ipython3",
   "version": "3.8.0"
  }
 },
 "nbformat": 4,
 "nbformat_minor": 5
}
